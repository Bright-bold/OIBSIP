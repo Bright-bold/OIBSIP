{
 "cells": [
  {
   "cell_type": "markdown",
   "id": "6fad208b-e246-429e-8c20-c39b8bc401ae",
   "metadata": {},
   "source": [
    "# PREDICTIVE ANALYSIS ON THE IMPACT OF ADVERTISING MEDIAS ON SALES"
   ]
  },
  {
   "cell_type": "markdown",
   "id": "6d93e21b-d314-403a-ba94-404ec127f6b3",
   "metadata": {},
   "source": [
    "### Exploratory Data Analysis"
   ]
  },
  {
   "cell_type": "code",
   "execution_count": 352,
   "id": "ab31f613-bd8b-4fba-b7ce-d3623710b816",
   "metadata": {},
   "outputs": [],
   "source": [
    "# IMPORTING NECCESSARY PYTHON LIBRARIES PACKAGES"
   ]
  },
  {
   "cell_type": "code",
   "execution_count": 353,
   "id": "bbfafa33-202e-4a82-92fd-4a0cddda2273",
   "metadata": {},
   "outputs": [],
   "source": [
    "import numpy as np\n",
    "import pandas as pd\n",
    "import matplotlib.pyplot as plt\n",
    "import seaborn as sns\n"
   ]
  },
  {
   "cell_type": "code",
   "execution_count": 354,
   "id": "7c12616c-1082-449a-8c06-948d7e5b1fe7",
   "metadata": {},
   "outputs": [
    {
     "data": {
      "text/html": [
       "<div>\n",
       "<style scoped>\n",
       "    .dataframe tbody tr th:only-of-type {\n",
       "        vertical-align: middle;\n",
       "    }\n",
       "\n",
       "    .dataframe tbody tr th {\n",
       "        vertical-align: top;\n",
       "    }\n",
       "\n",
       "    .dataframe thead th {\n",
       "        text-align: right;\n",
       "    }\n",
       "</style>\n",
       "<table border=\"1\" class=\"dataframe\">\n",
       "  <thead>\n",
       "    <tr style=\"text-align: right;\">\n",
       "      <th></th>\n",
       "      <th>TV</th>\n",
       "      <th>Radio</th>\n",
       "      <th>Newspaper</th>\n",
       "      <th>Sales</th>\n",
       "    </tr>\n",
       "  </thead>\n",
       "  <tbody>\n",
       "    <tr>\n",
       "      <th>1</th>\n",
       "      <td>230.1</td>\n",
       "      <td>37.8</td>\n",
       "      <td>69.2</td>\n",
       "      <td>22.1</td>\n",
       "    </tr>\n",
       "    <tr>\n",
       "      <th>2</th>\n",
       "      <td>44.5</td>\n",
       "      <td>39.3</td>\n",
       "      <td>45.1</td>\n",
       "      <td>10.4</td>\n",
       "    </tr>\n",
       "    <tr>\n",
       "      <th>3</th>\n",
       "      <td>17.2</td>\n",
       "      <td>45.9</td>\n",
       "      <td>69.3</td>\n",
       "      <td>9.3</td>\n",
       "    </tr>\n",
       "    <tr>\n",
       "      <th>4</th>\n",
       "      <td>151.5</td>\n",
       "      <td>41.3</td>\n",
       "      <td>58.5</td>\n",
       "      <td>18.5</td>\n",
       "    </tr>\n",
       "    <tr>\n",
       "      <th>5</th>\n",
       "      <td>180.8</td>\n",
       "      <td>10.8</td>\n",
       "      <td>58.4</td>\n",
       "      <td>12.9</td>\n",
       "    </tr>\n",
       "    <tr>\n",
       "      <th>...</th>\n",
       "      <td>...</td>\n",
       "      <td>...</td>\n",
       "      <td>...</td>\n",
       "      <td>...</td>\n",
       "    </tr>\n",
       "    <tr>\n",
       "      <th>196</th>\n",
       "      <td>38.2</td>\n",
       "      <td>3.7</td>\n",
       "      <td>13.8</td>\n",
       "      <td>7.6</td>\n",
       "    </tr>\n",
       "    <tr>\n",
       "      <th>197</th>\n",
       "      <td>94.2</td>\n",
       "      <td>4.9</td>\n",
       "      <td>8.1</td>\n",
       "      <td>9.7</td>\n",
       "    </tr>\n",
       "    <tr>\n",
       "      <th>198</th>\n",
       "      <td>177.0</td>\n",
       "      <td>9.3</td>\n",
       "      <td>6.4</td>\n",
       "      <td>12.8</td>\n",
       "    </tr>\n",
       "    <tr>\n",
       "      <th>199</th>\n",
       "      <td>283.6</td>\n",
       "      <td>42.0</td>\n",
       "      <td>66.2</td>\n",
       "      <td>25.5</td>\n",
       "    </tr>\n",
       "    <tr>\n",
       "      <th>200</th>\n",
       "      <td>232.1</td>\n",
       "      <td>8.6</td>\n",
       "      <td>8.7</td>\n",
       "      <td>13.4</td>\n",
       "    </tr>\n",
       "  </tbody>\n",
       "</table>\n",
       "<p>200 rows × 4 columns</p>\n",
       "</div>"
      ],
      "text/plain": [
       "        TV  Radio  Newspaper  Sales\n",
       "1    230.1   37.8       69.2   22.1\n",
       "2     44.5   39.3       45.1   10.4\n",
       "3     17.2   45.9       69.3    9.3\n",
       "4    151.5   41.3       58.5   18.5\n",
       "5    180.8   10.8       58.4   12.9\n",
       "..     ...    ...        ...    ...\n",
       "196   38.2    3.7       13.8    7.6\n",
       "197   94.2    4.9        8.1    9.7\n",
       "198  177.0    9.3        6.4   12.8\n",
       "199  283.6   42.0       66.2   25.5\n",
       "200  232.1    8.6        8.7   13.4\n",
       "\n",
       "[200 rows x 4 columns]"
      ]
     },
     "execution_count": 354,
     "metadata": {},
     "output_type": "execute_result"
    }
   ],
   "source": [
    "#Read CSV file and removing unwanted column\n",
    "\n",
    "\n",
    "advert = pd.read_csv('Documents/advertising.csv', index_col = 0)\n",
    "advert"
   ]
  },
  {
   "cell_type": "code",
   "execution_count": 355,
   "id": "fdc90f84-1d37-47dc-97b5-89fad788c57d",
   "metadata": {},
   "outputs": [
    {
     "name": "stdout",
     "output_type": "stream",
     "text": [
      "<class 'pandas.core.frame.DataFrame'>\n",
      "Index: 200 entries, 1 to 200\n",
      "Data columns (total 4 columns):\n",
      " #   Column     Non-Null Count  Dtype  \n",
      "---  ------     --------------  -----  \n",
      " 0   TV         200 non-null    float64\n",
      " 1   Radio      200 non-null    float64\n",
      " 2   Newspaper  200 non-null    float64\n",
      " 3   Sales      200 non-null    float64\n",
      "dtypes: float64(4)\n",
      "memory usage: 7.8 KB\n"
     ]
    }
   ],
   "source": [
    "#Ascessing Data information\n",
    "\n",
    "advert.info()"
   ]
  },
  {
   "cell_type": "code",
   "execution_count": 356,
   "id": "a02bc0dc-0337-4f40-8145-e9e9b4889670",
   "metadata": {},
   "outputs": [
    {
     "data": {
      "text/html": [
       "<div>\n",
       "<style scoped>\n",
       "    .dataframe tbody tr th:only-of-type {\n",
       "        vertical-align: middle;\n",
       "    }\n",
       "\n",
       "    .dataframe tbody tr th {\n",
       "        vertical-align: top;\n",
       "    }\n",
       "\n",
       "    .dataframe thead th {\n",
       "        text-align: right;\n",
       "    }\n",
       "</style>\n",
       "<table border=\"1\" class=\"dataframe\">\n",
       "  <thead>\n",
       "    <tr style=\"text-align: right;\">\n",
       "      <th></th>\n",
       "      <th>TV</th>\n",
       "      <th>Radio</th>\n",
       "      <th>Newspaper</th>\n",
       "      <th>Sales</th>\n",
       "    </tr>\n",
       "  </thead>\n",
       "  <tbody>\n",
       "    <tr>\n",
       "      <th>count</th>\n",
       "      <td>200.000000</td>\n",
       "      <td>200.000000</td>\n",
       "      <td>200.000000</td>\n",
       "      <td>200.000000</td>\n",
       "    </tr>\n",
       "    <tr>\n",
       "      <th>mean</th>\n",
       "      <td>147.042500</td>\n",
       "      <td>23.264000</td>\n",
       "      <td>30.554000</td>\n",
       "      <td>14.022500</td>\n",
       "    </tr>\n",
       "    <tr>\n",
       "      <th>std</th>\n",
       "      <td>85.854236</td>\n",
       "      <td>14.846809</td>\n",
       "      <td>21.778621</td>\n",
       "      <td>5.217457</td>\n",
       "    </tr>\n",
       "    <tr>\n",
       "      <th>min</th>\n",
       "      <td>0.700000</td>\n",
       "      <td>0.000000</td>\n",
       "      <td>0.300000</td>\n",
       "      <td>1.600000</td>\n",
       "    </tr>\n",
       "    <tr>\n",
       "      <th>25%</th>\n",
       "      <td>74.375000</td>\n",
       "      <td>9.975000</td>\n",
       "      <td>12.750000</td>\n",
       "      <td>10.375000</td>\n",
       "    </tr>\n",
       "    <tr>\n",
       "      <th>50%</th>\n",
       "      <td>149.750000</td>\n",
       "      <td>22.900000</td>\n",
       "      <td>25.750000</td>\n",
       "      <td>12.900000</td>\n",
       "    </tr>\n",
       "    <tr>\n",
       "      <th>75%</th>\n",
       "      <td>218.825000</td>\n",
       "      <td>36.525000</td>\n",
       "      <td>45.100000</td>\n",
       "      <td>17.400000</td>\n",
       "    </tr>\n",
       "    <tr>\n",
       "      <th>max</th>\n",
       "      <td>296.400000</td>\n",
       "      <td>49.600000</td>\n",
       "      <td>114.000000</td>\n",
       "      <td>27.000000</td>\n",
       "    </tr>\n",
       "  </tbody>\n",
       "</table>\n",
       "</div>"
      ],
      "text/plain": [
       "               TV       Radio   Newspaper       Sales\n",
       "count  200.000000  200.000000  200.000000  200.000000\n",
       "mean   147.042500   23.264000   30.554000   14.022500\n",
       "std     85.854236   14.846809   21.778621    5.217457\n",
       "min      0.700000    0.000000    0.300000    1.600000\n",
       "25%     74.375000    9.975000   12.750000   10.375000\n",
       "50%    149.750000   22.900000   25.750000   12.900000\n",
       "75%    218.825000   36.525000   45.100000   17.400000\n",
       "max    296.400000   49.600000  114.000000   27.000000"
      ]
     },
     "execution_count": 356,
     "metadata": {},
     "output_type": "execute_result"
    }
   ],
   "source": [
    "# Displays a descriptive statistics of Dataset\n",
    "advert.describe()"
   ]
  },
  {
   "cell_type": "code",
   "execution_count": 357,
   "id": "adb37bfe-bc13-4963-8b8f-411b930735f5",
   "metadata": {},
   "outputs": [
    {
     "data": {
      "text/plain": [
       "Index(['TV', 'Radio', 'Newspaper', 'Sales'], dtype='object')"
      ]
     },
     "execution_count": 357,
     "metadata": {},
     "output_type": "execute_result"
    }
   ],
   "source": [
    "advert.columns"
   ]
  },
  {
   "cell_type": "code",
   "execution_count": 358,
   "id": "5878c4dc-2744-437a-b864-c4daa84a3bfb",
   "metadata": {},
   "outputs": [
    {
     "data": {
      "text/plain": [
       "(200, 4)"
      ]
     },
     "execution_count": 358,
     "metadata": {},
     "output_type": "execute_result"
    }
   ],
   "source": [
    "# To show the numbers of rows and columns in the Dataset\n",
    "advert.shape"
   ]
  },
  {
   "cell_type": "code",
   "execution_count": 359,
   "id": "6fffb610-29b8-4fce-bfd6-a66e65fef24a",
   "metadata": {},
   "outputs": [
    {
     "data": {
      "text/plain": [
       "TV           0\n",
       "Radio        0\n",
       "Newspaper    0\n",
       "Sales        0\n",
       "dtype: int64"
      ]
     },
     "execution_count": 359,
     "metadata": {},
     "output_type": "execute_result"
    }
   ],
   "source": [
    "#checking for Null Values\n",
    "\n",
    "advert.isna().sum()\n",
    "\n",
    "#Dataset does not contain any null value"
   ]
  },
  {
   "cell_type": "markdown",
   "id": "94515735-3c9b-4df4-a476-3f45bc9dfdf9",
   "metadata": {},
   "source": [
    "# This is to check for any outliers"
   ]
  },
  {
   "cell_type": "code",
   "execution_count": 360,
   "id": "eaf8d14f-7d80-4721-b031-4a0a42b88e4f",
   "metadata": {},
   "outputs": [
    {
     "data": {
      "image/png": "[encoded data removed]",
      "text/plain": [
       "<Figure size 500x1000 with 3 Axes>"
      ]
     },
     "metadata": {},
     "output_type": "display_data"
    }
   ],
   "source": [
    "import matplotlib.pyplot as plt\n",
    "import seaborn as sns\n",
    "\n",
    "# Create subplots with 3 rows\n",
    "fig, axs = plt.subplots(3, 1, figsize=(5, 10))  # Adjusted figsize for better visualization\n",
    "\n",
    "# TV Boxplot\n",
    "sns.boxplot(x=advert['TV'], ax=axs[0])  # Specify the x-axis for the boxplot\n",
    "axs[0].set_title('TV Advertisement')\n",
    "\n",
    "# Newspaper Boxplot\n",
    "sns.boxplot(x=advert['Newspaper'], ax=axs[1])  # Specify the x-axis for the boxplot\n",
    "axs[1].set_title('Newspaper Advertisement')\n",
    "\n",
    "# Radio Boxplot\n",
    "sns.boxplot(x=advert['Radio'], ax=axs[2])  # Specify the x-axis for the boxplot\n",
    "axs[2].set_title('Radio Advertisement')\n",
    "\n",
    "# Adjust layout for better spacing\n",
    "plt.tight_layout()\n",
    "plt.show()\n"
   ]
  },
  {
   "cell_type": "code",
   "execution_count": 361,
   "id": "616639c4-fc92-4408-9cd9-ce1693a00849",
   "metadata": {},
   "outputs": [
    {
     "data": {
      "image/png": "[encoded data removed]",
      "text/plain": [
       "<Figure size 1200x400 with 3 Axes>"
      ]
     },
     "metadata": {},
     "output_type": "display_data"
    }
   ],
   "source": [
    "sns.pairplot(advert, x_vars=['TV', 'Newspaper', 'Radio'], y_vars='Sales', height=4, aspect=1, kind='scatter')\n",
    "plt.show()"
   ]
  },
  {
   "cell_type": "markdown",
   "id": "42044412-49ee-4890-b78b-03e1985b0772",
   "metadata": {},
   "source": [
    "## correlation of Each adverting media"
   ]
  },
  {
   "cell_type": "code",
   "execution_count": 362,
   "id": "425ce7c6-3df4-4272-b4e9-ea3844c19143",
   "metadata": {},
   "outputs": [
    {
     "data": {
      "text/html": [
       "<div>\n",
       "<style scoped>\n",
       "    .dataframe tbody tr th:only-of-type {\n",
       "        vertical-align: middle;\n",
       "    }\n",
       "\n",
       "    .dataframe tbody tr th {\n",
       "        vertical-align: top;\n",
       "    }\n",
       "\n",
       "    .dataframe thead th {\n",
       "        text-align: right;\n",
       "    }\n",
       "</style>\n",
       "<table border=\"1\" class=\"dataframe\">\n",
       "  <thead>\n",
       "    <tr style=\"text-align: right;\">\n",
       "      <th></th>\n",
       "      <th>TV</th>\n",
       "      <th>Radio</th>\n",
       "      <th>Newspaper</th>\n",
       "      <th>Sales</th>\n",
       "    </tr>\n",
       "  </thead>\n",
       "  <tbody>\n",
       "    <tr>\n",
       "      <th>TV</th>\n",
       "      <td>1.000000</td>\n",
       "      <td>0.054809</td>\n",
       "      <td>0.056648</td>\n",
       "      <td>0.782224</td>\n",
       "    </tr>\n",
       "    <tr>\n",
       "      <th>Radio</th>\n",
       "      <td>0.054809</td>\n",
       "      <td>1.000000</td>\n",
       "      <td>0.354104</td>\n",
       "      <td>0.576223</td>\n",
       "    </tr>\n",
       "    <tr>\n",
       "      <th>Newspaper</th>\n",
       "      <td>0.056648</td>\n",
       "      <td>0.354104</td>\n",
       "      <td>1.000000</td>\n",
       "      <td>0.228299</td>\n",
       "    </tr>\n",
       "    <tr>\n",
       "      <th>Sales</th>\n",
       "      <td>0.782224</td>\n",
       "      <td>0.576223</td>\n",
       "      <td>0.228299</td>\n",
       "      <td>1.000000</td>\n",
       "    </tr>\n",
       "  </tbody>\n",
       "</table>\n",
       "</div>"
      ],
      "text/plain": [
       "                 TV     Radio  Newspaper     Sales\n",
       "TV         1.000000  0.054809   0.056648  0.782224\n",
       "Radio      0.054809  1.000000   0.354104  0.576223\n",
       "Newspaper  0.056648  0.354104   1.000000  0.228299\n",
       "Sales      0.782224  0.576223   0.228299  1.000000"
      ]
     },
     "execution_count": 362,
     "metadata": {},
     "output_type": "execute_result"
    }
   ],
   "source": [
    "advert.corr()"
   ]
  },
  {
   "cell_type": "code",
   "execution_count": 363,
   "id": "08e48007-1067-4b7c-b9e5-c7f304c7e883",
   "metadata": {},
   "outputs": [],
   "source": [
    "#TV is has a very strong correlation, therefore it best best platform to improve sales"
   ]
  },
  {
   "cell_type": "code",
   "execution_count": 364,
   "id": "571f3fcb-18e4-4fa3-b7d9-269db3cd5323",
   "metadata": {},
   "outputs": [
    {
     "data": {
      "image/png": "[encoded data removed]",
      "text/plain": [
       "<Figure size 640x480 with 2 Axes>"
      ]
     },
     "metadata": {},
     "output_type": "display_data"
    }
   ],
   "source": [
    "sns.heatmap(advert.corr(), cmap=\"YlGnBu\", annot = True)\n",
    "plt.show()"
   ]
  },
  {
   "cell_type": "markdown",
   "id": "d6ffdd25-ca83-47d2-a927-5143bdbce7cc",
   "metadata": {},
   "source": [
    "# predicting sales based on platforms "
   ]
  },
  {
   "cell_type": "code",
   "execution_count": 365,
   "id": "b76feac7-385a-4b30-8ef6-73dcf8282b75",
   "metadata": {},
   "outputs": [],
   "source": [
    "#import train_test_split model\n",
    "from sklearn.model_selection import train_test_split"
   ]
  },
  {
   "cell_type": "code",
   "execution_count": 366,
   "id": "6058bd7e-8c97-43c2-9aee-8afe05689880",
   "metadata": {},
   "outputs": [
    {
     "data": {
      "text/html": [
       "<div>\n",
       "<style scoped>\n",
       "    .dataframe tbody tr th:only-of-type {\n",
       "        vertical-align: middle;\n",
       "    }\n",
       "\n",
       "    .dataframe tbody tr th {\n",
       "        vertical-align: top;\n",
       "    }\n",
       "\n",
       "    .dataframe thead th {\n",
       "        text-align: right;\n",
       "    }\n",
       "</style>\n",
       "<table border=\"1\" class=\"dataframe\">\n",
       "  <thead>\n",
       "    <tr style=\"text-align: right;\">\n",
       "      <th></th>\n",
       "      <th>TV</th>\n",
       "    </tr>\n",
       "  </thead>\n",
       "  <tbody>\n",
       "    <tr>\n",
       "      <th>1</th>\n",
       "      <td>230.1</td>\n",
       "    </tr>\n",
       "    <tr>\n",
       "      <th>2</th>\n",
       "      <td>44.5</td>\n",
       "    </tr>\n",
       "    <tr>\n",
       "      <th>3</th>\n",
       "      <td>17.2</td>\n",
       "    </tr>\n",
       "    <tr>\n",
       "      <th>4</th>\n",
       "      <td>151.5</td>\n",
       "    </tr>\n",
       "    <tr>\n",
       "      <th>5</th>\n",
       "      <td>180.8</td>\n",
       "    </tr>\n",
       "    <tr>\n",
       "      <th>...</th>\n",
       "      <td>...</td>\n",
       "    </tr>\n",
       "    <tr>\n",
       "      <th>196</th>\n",
       "      <td>38.2</td>\n",
       "    </tr>\n",
       "    <tr>\n",
       "      <th>197</th>\n",
       "      <td>94.2</td>\n",
       "    </tr>\n",
       "    <tr>\n",
       "      <th>198</th>\n",
       "      <td>177.0</td>\n",
       "    </tr>\n",
       "    <tr>\n",
       "      <th>199</th>\n",
       "      <td>283.6</td>\n",
       "    </tr>\n",
       "    <tr>\n",
       "      <th>200</th>\n",
       "      <td>232.1</td>\n",
       "    </tr>\n",
       "  </tbody>\n",
       "</table>\n",
       "<p>200 rows × 1 columns</p>\n",
       "</div>"
      ],
      "text/plain": [
       "        TV\n",
       "1    230.1\n",
       "2     44.5\n",
       "3     17.2\n",
       "4    151.5\n",
       "5    180.8\n",
       "..     ...\n",
       "196   38.2\n",
       "197   94.2\n",
       "198  177.0\n",
       "199  283.6\n",
       "200  232.1\n",
       "\n",
       "[200 rows x 1 columns]"
      ]
     },
     "execution_count": 366,
     "metadata": {},
     "output_type": "execute_result"
    }
   ],
   "source": [
    "X = advert.drop(['Sales','Newspaper','Radio'], axis = 1)\n",
    "y = advert['Sales']\n",
    "X"
   ]
  },
  {
   "cell_type": "code",
   "execution_count": 367,
   "id": "4b1172b2-dabe-4329-ac2b-56a5ed6ff818",
   "metadata": {},
   "outputs": [],
   "source": [
    "#train 80% of the data and reserve 20% for testing\n",
    "X_train, X_test, y_train, y_test = train_test_split(X, y, test_size = 0.2, random_state = 42)"
   ]
  },
  {
   "cell_type": "code",
   "execution_count": 368,
   "id": "aebef421-89c0-4505-82c8-12f04efd89ce",
   "metadata": {},
   "outputs": [
    {
     "data": {
      "text/html": [
       "<div>\n",
       "<style scoped>\n",
       "    .dataframe tbody tr th:only-of-type {\n",
       "        vertical-align: middle;\n",
       "    }\n",
       "\n",
       "    .dataframe tbody tr th {\n",
       "        vertical-align: top;\n",
       "    }\n",
       "\n",
       "    .dataframe thead th {\n",
       "        text-align: right;\n",
       "    }\n",
       "</style>\n",
       "<table border=\"1\" class=\"dataframe\">\n",
       "  <thead>\n",
       "    <tr style=\"text-align: right;\">\n",
       "      <th></th>\n",
       "      <th>TV</th>\n",
       "      <th>Sales</th>\n",
       "    </tr>\n",
       "  </thead>\n",
       "  <tbody>\n",
       "    <tr>\n",
       "      <th>80</th>\n",
       "      <td>116.0</td>\n",
       "      <td>11.0</td>\n",
       "    </tr>\n",
       "    <tr>\n",
       "      <th>198</th>\n",
       "      <td>177.0</td>\n",
       "      <td>12.8</td>\n",
       "    </tr>\n",
       "    <tr>\n",
       "      <th>39</th>\n",
       "      <td>43.1</td>\n",
       "      <td>10.1</td>\n",
       "    </tr>\n",
       "    <tr>\n",
       "      <th>25</th>\n",
       "      <td>62.3</td>\n",
       "      <td>9.7</td>\n",
       "    </tr>\n",
       "    <tr>\n",
       "      <th>123</th>\n",
       "      <td>224.0</td>\n",
       "      <td>11.6</td>\n",
       "    </tr>\n",
       "    <tr>\n",
       "      <th>...</th>\n",
       "      <td>...</td>\n",
       "      <td>...</td>\n",
       "    </tr>\n",
       "    <tr>\n",
       "      <th>107</th>\n",
       "      <td>25.0</td>\n",
       "      <td>7.2</td>\n",
       "    </tr>\n",
       "    <tr>\n",
       "      <th>15</th>\n",
       "      <td>204.1</td>\n",
       "      <td>19.0</td>\n",
       "    </tr>\n",
       "    <tr>\n",
       "      <th>93</th>\n",
       "      <td>217.7</td>\n",
       "      <td>19.4</td>\n",
       "    </tr>\n",
       "    <tr>\n",
       "      <th>180</th>\n",
       "      <td>165.6</td>\n",
       "      <td>12.6</td>\n",
       "    </tr>\n",
       "    <tr>\n",
       "      <th>103</th>\n",
       "      <td>280.2</td>\n",
       "      <td>14.8</td>\n",
       "    </tr>\n",
       "  </tbody>\n",
       "</table>\n",
       "<p>160 rows × 2 columns</p>\n",
       "</div>"
      ],
      "text/plain": [
       "        TV  Sales\n",
       "80   116.0   11.0\n",
       "198  177.0   12.8\n",
       "39    43.1   10.1\n",
       "25    62.3    9.7\n",
       "123  224.0   11.6\n",
       "..     ...    ...\n",
       "107   25.0    7.2\n",
       "15   204.1   19.0\n",
       "93   217.7   19.4\n",
       "180  165.6   12.6\n",
       "103  280.2   14.8\n",
       "\n",
       "[160 rows x 2 columns]"
      ]
     },
     "execution_count": 368,
     "metadata": {},
     "output_type": "execute_result"
    }
   ],
   "source": [
    "advert_trained = X_train.join(y_train)\n",
    "advert_trained"
   ]
  },
  {
   "cell_type": "code",
   "execution_count": 369,
   "id": "4008da94-8d6a-4cc3-92b3-aaa7ff450f59",
   "metadata": {},
   "outputs": [
    {
     "data": {
      "text/plain": [
       "(40, 2)"
      ]
     },
     "execution_count": 369,
     "metadata": {},
     "output_type": "execute_result"
    }
   ],
   "source": [
    "X_test.join(y_test).shape"
   ]
  },
  {
   "cell_type": "code",
   "execution_count": 370,
   "id": "0271060a-addf-4311-a683-ace900424078",
   "metadata": {},
   "outputs": [
    {
     "data": {
      "text/plain": [
       "0.5911667812043271"
      ]
     },
     "execution_count": 370,
     "metadata": {},
     "output_type": "execute_result"
    }
   ],
   "source": [
    "from sklearn.linear_model import LinearRegression\n",
    "reg = LinearRegression()\n",
    "reg.fit(X_train,y_train)\n",
    "reg.score(X_train,y_train)"
   ]
  },
  {
   "cell_type": "code",
   "execution_count": 371,
   "id": "b590b357-8430-47a6-92f4-ab5c559d7911",
   "metadata": {},
   "outputs": [
    {
     "data": {
      "image/png": "[encoded data removed]",
      "text/plain": [
       "<Figure size 640x480 with 1 Axes>"
      ]
     },
     "metadata": {},
     "output_type": "display_data"
    }
   ],
   "source": [
    "#properly displays scattered plot for sales based on TV Platform\n",
    "plt.scatter(y_test, y_pred, alpha=0.7)\n",
    "\n",
    "#shows a straight line plot indicating fits of data points\n",
    "plt.plot([min(y_test), max(y_test)], [min(y_test), max(y_test)], color='red')\n",
    "\n",
    "#labels the horizontal axis as Actual sales\n",
    "plt.xlabel(\"Actual Sales\")\n",
    "\n",
    "#labels the vertical axis as Predicted sales\n",
    "plt.ylabel(\"Predicted Sales\")\n",
    "\n",
    "#adds title to data set\n",
    "plt.title(\"Actual vs Predicted Sales\")\n",
    "\n",
    "#displays the plot\n",
    "plt.show() "
   ]
  },
  {
   "cell_type": "markdown",
   "id": "e21194f1-69f7-4ae6-9a8c-fe096789f969",
   "metadata": {},
   "source": [
    "### Prediction of Sales based on Linear Model"
   ]
  },
  {
   "cell_type": "code",
   "execution_count": 372,
   "id": "c9a78070-cae9-4c4d-95ae-5d5814ecd19a",
   "metadata": {},
   "outputs": [
    {
     "name": "stdout",
     "output_type": "stream",
     "text": [
      " Predicted Sales  Actual Sales\n",
      "       14.717944          16.9\n",
      "       16.211548          22.4\n",
      "       20.748197          21.4\n",
      "        7.664036           7.3\n",
      "       17.370139          24.7\n",
      "       10.614021          12.6\n",
      "       17.207285          22.3\n",
      "        9.446125           8.4\n",
      "       17.467851          11.5\n",
      "       15.266995          14.9\n",
      "        8.585325           9.5\n",
      "        9.734609           8.7\n",
      "       18.030861          11.9\n",
      "        7.370899           5.3\n",
      "       13.610536          10.3\n",
      "       15.038999          11.7\n"
     ]
    }
   ],
   "source": [
    "y_pred = reg.predict(X_test)\n",
    "comparison_df = pd.DataFrame({ \"Predicted Sales\": y_pred[:16],\"Actual Sales\": y_test[:16].values})\n",
    "\n",
    "# Display the DataFrame in a clean format\n",
    "print(comparison_df.to_string(index=False))"
   ]
  },
  {
   "cell_type": "code",
   "execution_count": 373,
   "id": "552da0d0-c7eb-456a-981c-e12fe55d50f2",
   "metadata": {},
   "outputs": [
    {
     "data": {
      "text/plain": [
       "0.8993053714328938"
      ]
     },
     "execution_count": 373,
     "metadata": {},
     "output_type": "execute_result"
    }
   ],
   "source": [
    "from sklearn.ensemble import RandomForestRegressor  # Use RandomForestClassifier for classification\n",
    "from sklearn.model_selection import train_test_split\n",
    "\n",
    "\n",
    "# Initialize the Random Forest Regressor\n",
    "rf_reg = RandomForestRegressor(random_state=42)  # Use RandomForestClassifier for classification tasks\n",
    "\n",
    "# Train the model\n",
    "rf_reg.fit(X_train, y_train)\n",
    "\n",
    "# Get the R-squared score on the training set\n",
    "train_score = rf_reg.score(X_train, y_train)\n",
    "\n",
    "# Get the R-squared score on the testing set\n",
    "test_score = rf_reg.score(X_test, y_test)\n",
    "train_score\n",
    "\n"
   ]
  },
  {
   "cell_type": "code",
   "execution_count": 374,
   "id": "6ac75ef8-16d7-4913-9755-d5e3a5d72b72",
   "metadata": {},
   "outputs": [
    {
     "data": {
      "text/plain": [
       "0.7116102412653466"
      ]
     },
     "execution_count": 374,
     "metadata": {},
     "output_type": "execute_result"
    }
   ],
   "source": [
    "test_score"
   ]
  },
  {
   "cell_type": "code",
   "execution_count": 375,
   "id": "e65a3381-0d77-44e2-a425-67c9471cd21d",
   "metadata": {},
   "outputs": [
    {
     "name": "stdout",
     "output_type": "stream",
     "text": [
      " Predicted Sales  Actual Sales\n",
      "         16.6150          16.9\n",
      "         17.8380          22.4\n",
      "         19.9280          21.4\n",
      "          5.6050           7.3\n",
      "         19.5060          24.7\n",
      "         13.3060          12.6\n",
      "         20.9990          22.3\n",
      "         10.2000           8.4\n",
      "         12.6920          11.5\n",
      "         14.4351          14.9\n",
      "          7.8150           9.5\n",
      "         11.1060           8.7\n",
      "         14.0100          11.9\n",
      "          4.4020           5.3\n",
      "         12.6230          10.3\n",
      "         16.9470          11.7\n"
     ]
    }
   ],
   "source": [
    "y_pred = rf_reg.predict(X_test)\n",
    "comparison_df = pd.DataFrame({ \"Predicted Sales\": y_pred[:16],\"Actual Sales\": y_test[:16].values})\n",
    "\n",
    "# Display the DataFrame in a clean format\n",
    "print(comparison_df.to_string(index=False))"
   ]
  },
  {
   "cell_type": "markdown",
   "id": "5c4ef20a-02cd-49a7-b3fb-7ef94efe0d1b",
   "metadata": {},
   "source": [
    "# Prediction of Sales based on TV as advertising Platform"
   ]
  },
  {
   "cell_type": "markdown",
   "id": "dc2f3cd2-d346-4fbd-80f4-7f63983bcd59",
   "metadata": {},
   "source": [
    "### Model Evaluation"
   ]
  },
  {
   "cell_type": "code",
   "execution_count": 376,
   "id": "752676da-de88-4d6a-990e-5327c2a72bf1",
   "metadata": {},
   "outputs": [
    {
     "data": {
      "text/plain": [
       "0.6766954295627077"
      ]
     },
     "execution_count": 376,
     "metadata": {},
     "output_type": "execute_result"
    }
   ],
   "source": [
    "from sklearn.metrics import mean_squared_error\n",
    "r_squared = reg.score(X_test,y_test)\n",
    "rmse = mean_squared_error(y_test,y_pred, squared = False)\n",
    "rmse\n",
    "r_squared\n"
   ]
  },
  {
   "cell_type": "code",
   "execution_count": 377,
   "id": "d81a5869-b3f7-4810-ba48-e852e5a793b7",
   "metadata": {},
   "outputs": [
    {
     "data": {
      "text/plain": [
       "3.017054389029325"
      ]
     },
     "execution_count": 377,
     "metadata": {},
     "output_type": "execute_result"
    }
   ],
   "source": [
    "rmse"
   ]
  },
  {
   "cell_type": "markdown",
   "id": "eb26471a-6716-453e-afac-b4ba6b65916e",
   "metadata": {},
   "source": [
    "## Cross Validation of Model"
   ]
  },
  {
   "cell_type": "code",
   "execution_count": 378,
   "id": "e2c6461c-b508-4869-b58f-9b0c4d0c8cd3",
   "metadata": {},
   "outputs": [
    {
     "name": "stdout",
     "output_type": "stream",
     "text": [
      "[0.65772346 0.573892   0.67795357 0.60047754 0.5114863  0.48037784]\n"
     ]
    }
   ],
   "source": [
    "from sklearn.model_selection import cross_val_score,KFold\n",
    "kf = KFold(n_splits = 6, shuffle = True, random_state = 42)\n",
    "reg = LinearRegression()\n",
    "cv_results = cross_val_score(reg, X,y,cv = kf)\n",
    "print(cv_results)"
   ]
  },
  {
   "cell_type": "code",
   "execution_count": 379,
   "id": "5569a5dc-d5e1-49af-9a73-ecba41b16c23",
   "metadata": {},
   "outputs": [
    {
     "name": "stdout",
     "output_type": "stream",
     "text": [
      "0.5836517842445011 0.07145064177755119\n"
     ]
    }
   ],
   "source": [
    "print(np.mean(cv_results),np.std(cv_results))"
   ]
  },
  {
   "cell_type": "code",
   "execution_count": 380,
   "id": "00b304d2-111f-45ba-bc1b-7199a2e1df0c",
   "metadata": {},
   "outputs": [
    {
     "name": "stdout",
     "output_type": "stream",
     "text": [
      "[0.48426639 0.67542481]\n"
     ]
    }
   ],
   "source": [
    "print(np.quantile(cv_results,[0.025,0.975]))"
   ]
  },
  {
   "cell_type": "code",
   "execution_count": 381,
   "id": "47e90e2d-f70d-43cb-806d-d9ce9e8a4302",
   "metadata": {},
   "outputs": [
    {
     "data": {
      "text/html": [
       "<div>\n",
       "<style scoped>\n",
       "    .dataframe tbody tr th:only-of-type {\n",
       "        vertical-align: middle;\n",
       "    }\n",
       "\n",
       "    .dataframe tbody tr th {\n",
       "        vertical-align: top;\n",
       "    }\n",
       "\n",
       "    .dataframe thead th {\n",
       "        text-align: right;\n",
       "    }\n",
       "</style>\n",
       "<table border=\"1\" class=\"dataframe\">\n",
       "  <thead>\n",
       "    <tr style=\"text-align: right;\">\n",
       "      <th></th>\n",
       "      <th>Radio</th>\n",
       "    </tr>\n",
       "  </thead>\n",
       "  <tbody>\n",
       "    <tr>\n",
       "      <th>1</th>\n",
       "      <td>37.8</td>\n",
       "    </tr>\n",
       "    <tr>\n",
       "      <th>2</th>\n",
       "      <td>39.3</td>\n",
       "    </tr>\n",
       "    <tr>\n",
       "      <th>3</th>\n",
       "      <td>45.9</td>\n",
       "    </tr>\n",
       "    <tr>\n",
       "      <th>4</th>\n",
       "      <td>41.3</td>\n",
       "    </tr>\n",
       "    <tr>\n",
       "      <th>5</th>\n",
       "      <td>10.8</td>\n",
       "    </tr>\n",
       "  </tbody>\n",
       "</table>\n",
       "</div>"
      ],
      "text/plain": [
       "   Radio\n",
       "1   37.8\n",
       "2   39.3\n",
       "3   45.9\n",
       "4   41.3\n",
       "5   10.8"
      ]
     },
     "execution_count": 381,
     "metadata": {},
     "output_type": "execute_result"
    }
   ],
   "source": [
    "X = advert.drop(['Sales','TV','Newspaper'], axis = 1)\n",
    "y = advert['Sales']\n",
    "X.head()\n"
   ]
  },
  {
   "cell_type": "code",
   "execution_count": 382,
   "id": "7c5a8a3e-37f2-48db-a828-640f9f2d04d6",
   "metadata": {},
   "outputs": [],
   "source": [
    "#Split the data into 80% training and 20% testing\n",
    "X_train, X_test, y_train, y_test = train_test_split(X, y, test_size = 0.2, random_state = 42)"
   ]
  },
  {
   "cell_type": "code",
   "execution_count": 383,
   "id": "a9907f76-7b8e-4e88-8e7f-7788ff5b274a",
   "metadata": {},
   "outputs": [
    {
     "data": {
      "text/html": [
       "<div>\n",
       "<style scoped>\n",
       "    .dataframe tbody tr th:only-of-type {\n",
       "        vertical-align: middle;\n",
       "    }\n",
       "\n",
       "    .dataframe tbody tr th {\n",
       "        vertical-align: top;\n",
       "    }\n",
       "\n",
       "    .dataframe thead th {\n",
       "        text-align: right;\n",
       "    }\n",
       "</style>\n",
       "<table border=\"1\" class=\"dataframe\">\n",
       "  <thead>\n",
       "    <tr style=\"text-align: right;\">\n",
       "      <th></th>\n",
       "      <th>Radio</th>\n",
       "      <th>Sales</th>\n",
       "    </tr>\n",
       "  </thead>\n",
       "  <tbody>\n",
       "    <tr>\n",
       "      <th>80</th>\n",
       "      <td>7.7</td>\n",
       "      <td>11.0</td>\n",
       "    </tr>\n",
       "    <tr>\n",
       "      <th>198</th>\n",
       "      <td>9.3</td>\n",
       "      <td>12.8</td>\n",
       "    </tr>\n",
       "    <tr>\n",
       "      <th>39</th>\n",
       "      <td>26.7</td>\n",
       "      <td>10.1</td>\n",
       "    </tr>\n",
       "    <tr>\n",
       "      <th>25</th>\n",
       "      <td>12.6</td>\n",
       "      <td>9.7</td>\n",
       "    </tr>\n",
       "    <tr>\n",
       "      <th>123</th>\n",
       "      <td>2.4</td>\n",
       "      <td>11.6</td>\n",
       "    </tr>\n",
       "    <tr>\n",
       "      <th>...</th>\n",
       "      <td>...</td>\n",
       "      <td>...</td>\n",
       "    </tr>\n",
       "    <tr>\n",
       "      <th>107</th>\n",
       "      <td>11.0</td>\n",
       "      <td>7.2</td>\n",
       "    </tr>\n",
       "    <tr>\n",
       "      <th>15</th>\n",
       "      <td>32.9</td>\n",
       "      <td>19.0</td>\n",
       "    </tr>\n",
       "    <tr>\n",
       "      <th>93</th>\n",
       "      <td>33.5</td>\n",
       "      <td>19.4</td>\n",
       "    </tr>\n",
       "    <tr>\n",
       "      <th>180</th>\n",
       "      <td>10.0</td>\n",
       "      <td>12.6</td>\n",
       "    </tr>\n",
       "    <tr>\n",
       "      <th>103</th>\n",
       "      <td>10.1</td>\n",
       "      <td>14.8</td>\n",
       "    </tr>\n",
       "  </tbody>\n",
       "</table>\n",
       "<p>160 rows × 2 columns</p>\n",
       "</div>"
      ],
      "text/plain": [
       "     Radio  Sales\n",
       "80     7.7   11.0\n",
       "198    9.3   12.8\n",
       "39    26.7   10.1\n",
       "25    12.6    9.7\n",
       "123    2.4   11.6\n",
       "..     ...    ...\n",
       "107   11.0    7.2\n",
       "15    32.9   19.0\n",
       "93    33.5   19.4\n",
       "180   10.0   12.6\n",
       "103   10.1   14.8\n",
       "\n",
       "[160 rows x 2 columns]"
      ]
     },
     "execution_count": 383,
     "metadata": {},
     "output_type": "execute_result"
    }
   ],
   "source": [
    "advert_trained = X_train.join(y_train)\n",
    "advert_trained"
   ]
  },
  {
   "cell_type": "code",
   "execution_count": 384,
   "id": "73c01732-f28d-44e5-a1e2-acdfb36178ea",
   "metadata": {},
   "outputs": [
    {
     "data": {
      "text/plain": [
       "(40, 2)"
      ]
     },
     "execution_count": 384,
     "metadata": {},
     "output_type": "execute_result"
    }
   ],
   "source": [
    "X_test.join(y_test).shape"
   ]
  },
  {
   "cell_type": "code",
   "execution_count": 385,
   "id": "655257ed-e218-4a6b-8682-f6feeb270078",
   "metadata": {},
   "outputs": [
    {
     "data": {
      "text/plain": [
       "0.35090564286715287"
      ]
     },
     "execution_count": 385,
     "metadata": {},
     "output_type": "execute_result"
    }
   ],
   "source": [
    "from sklearn.linear_model import LinearRegression\n",
    "\n",
    "reg = LinearRegression()\n",
    "\n",
    "reg.fit(X_train,y_train)\n",
    "\n",
    "reg.score(X_train,y_train)"
   ]
  },
  {
   "cell_type": "code",
   "execution_count": 386,
   "id": "6b6493fe-2920-4c86-9169-c9fd3c30d9e5",
   "metadata": {},
   "outputs": [
    {
     "data": {
      "text/html": [
       "<style>#sk-container-id-6 {color: black;background-color: white;}#sk-container-id-6 pre{padding: 0;}#sk-container-id-6 div.sk-toggleable {background-color: white;}#sk-container-id-6 label.sk-toggleable__label {cursor: pointer;display: block;width: 100%;margin-bottom: 0;padding: 0.3em;box-sizing: border-box;text-align: center;}#sk-container-id-6 label.sk-toggleable__label-arrow:before {content: \"▸\";float: left;margin-right: 0.25em;color: #696969;}#sk-container-id-6 label.sk-toggleable__label-arrow:hover:before {color: black;}#sk-container-id-6 div.sk-estimator:hover label.sk-toggleable__label-arrow:before {color: black;}#sk-container-id-6 div.sk-toggleable__content {max-height: 0;max-width: 0;overflow: hidden;text-align: left;background-color: #f0f8ff;}#sk-container-id-6 div.sk-toggleable__content pre {margin: 0.2em;color: black;border-radius: 0.25em;background-color: #f0f8ff;}#sk-container-id-6 input.sk-toggleable__control:checked~div.sk-toggleable__content {max-height: 200px;max-width: 100%;overflow: auto;}#sk-container-id-6 input.sk-toggleable__control:checked~label.sk-toggleable__label-arrow:before {content: \"▾\";}#sk-container-id-6 div.sk-estimator input.sk-toggleable__control:checked~label.sk-toggleable__label {background-color: #d4ebff;}#sk-container-id-6 div.sk-label input.sk-toggleable__control:checked~label.sk-toggleable__label {background-color: #d4ebff;}#sk-container-id-6 input.sk-hidden--visually {border: 0;clip: rect(1px 1px 1px 1px);clip: rect(1px, 1px, 1px, 1px);height: 1px;margin: -1px;overflow: hidden;padding: 0;position: absolute;width: 1px;}#sk-container-id-6 div.sk-estimator {font-family: monospace;background-color: #f0f8ff;border: 1px dotted black;border-radius: 0.25em;box-sizing: border-box;margin-bottom: 0.5em;}#sk-container-id-6 div.sk-estimator:hover {background-color: #d4ebff;}#sk-container-id-6 div.sk-parallel-item::after {content: \"\";width: 100%;border-bottom: 1px solid gray;flex-grow: 1;}#sk-container-id-6 div.sk-label:hover label.sk-toggleable__label {background-color: #d4ebff;}#sk-container-id-6 div.sk-serial::before {content: \"\";position: absolute;border-left: 1px solid gray;box-sizing: border-box;top: 0;bottom: 0;left: 50%;z-index: 0;}#sk-container-id-6 div.sk-serial {display: flex;flex-direction: column;align-items: center;background-color: white;padding-right: 0.2em;padding-left: 0.2em;position: relative;}#sk-container-id-6 div.sk-item {position: relative;z-index: 1;}#sk-container-id-6 div.sk-parallel {display: flex;align-items: stretch;justify-content: center;background-color: white;position: relative;}#sk-container-id-6 div.sk-item::before, #sk-container-id-6 div.sk-parallel-item::before {content: \"\";position: absolute;border-left: 1px solid gray;box-sizing: border-box;top: 0;bottom: 0;left: 50%;z-index: -1;}#sk-container-id-6 div.sk-parallel-item {display: flex;flex-direction: column;z-index: 1;position: relative;background-color: white;}#sk-container-id-6 div.sk-parallel-item:first-child::after {align-self: flex-end;width: 50%;}#sk-container-id-6 div.sk-parallel-item:last-child::after {align-self: flex-start;width: 50%;}#sk-container-id-6 div.sk-parallel-item:only-child::after {width: 0;}#sk-container-id-6 div.sk-dashed-wrapped {border: 1px dashed gray;margin: 0 0.4em 0.5em 0.4em;box-sizing: border-box;padding-bottom: 0.4em;background-color: white;}#sk-container-id-6 div.sk-label label {font-family: monospace;font-weight: bold;display: inline-block;line-height: 1.2em;}#sk-container-id-6 div.sk-label-container {text-align: center;}#sk-container-id-6 div.sk-container {/* jupyter's `normalize.less` sets `[hidden] { display: none; }` but bootstrap.min.css set `[hidden] { display: none !important; }` so we also need the `!important` here to be able to override the default hidden behavior on the sphinx rendered scikit-learn.org. See: https://github.com/scikit-learn/scikit-learn/issues/21755 */display: inline-block !important;position: relative;}#sk-container-id-6 div.sk-text-repr-fallback {display: none;}</style><div id=\"sk-container-id-6\" class=\"sk-top-container\"><div class=\"sk-text-repr-fallback\"><pre>LinearRegression()</pre><b>In a Jupyter environment, please rerun this cell to show the HTML representation or trust the notebook. <br />On GitHub, the HTML representation is unable to render, please try loading this page with nbviewer.org.</b></div><div class=\"sk-container\" hidden><div class=\"sk-item\"><div class=\"sk-estimator sk-toggleable\"><input class=\"sk-toggleable__control sk-hidden--visually\" id=\"sk-estimator-id-6\" type=\"checkbox\" checked><label for=\"sk-estimator-id-6\" class=\"sk-toggleable__label sk-toggleable__label-arrow\">LinearRegression</label><div class=\"sk-toggleable__content\"><pre>LinearRegression()</pre></div></div></div></div></div>"
      ],
      "text/plain": [
       "LinearRegression()"
      ]
     },
     "execution_count": 386,
     "metadata": {},
     "output_type": "execute_result"
    }
   ],
   "source": [
    "reg.fit(X_test,y_test)"
   ]
  },
  {
   "cell_type": "code",
   "execution_count": 387,
   "id": "50157a02-cf53-4f41-95cc-5cf71dafd27b",
   "metadata": {},
   "outputs": [
    {
     "data": {
      "text/plain": [
       "0.28303564431918216"
      ]
     },
     "execution_count": 387,
     "metadata": {},
     "output_type": "execute_result"
    }
   ],
   "source": [
    "reg.score(X_test, y_test)\n"
   ]
  },
  {
   "cell_type": "markdown",
   "id": "2995f545-2605-4042-9f97-2375745ddedd",
   "metadata": {},
   "source": [
    "### Scattered plot to show Linear Regression of data points"
   ]
  },
  {
   "cell_type": "code",
   "execution_count": 388,
   "id": "eed616f5-0ecf-4fd2-8fc7-ad5ebdc8b8e3",
   "metadata": {},
   "outputs": [
    {
     "data": {
      "image/png": "[encoded data removed]",
      "text/plain": [
       "<Figure size 640x480 with 1 Axes>"
      ]
     },
     "metadata": {},
     "output_type": "display_data"
    }
   ],
   "source": [
    "#properly displays scattered plot for sales based on TV Platform\n",
    "plt.scatter(y_test, y_pred, alpha=0.7)\n",
    "\n",
    "#shows a straight line plot indicating fits of data points\n",
    "plt.plot([min(y_test), max(y_test)], [min(y_test), max(y_test)], color='red')\n",
    "\n",
    "#labels the horizontal axis as Actual sales\n",
    "plt.xlabel(\"Actual Sales\")\n",
    "\n",
    "#labels the vertical axis as Predicted sales\n",
    "plt.ylabel(\"Predicted Sales\")\n",
    "\n",
    "#adds title to data set\n",
    "plt.title(\"Actual vs Predicted Sales (RADIO)\")\n",
    "\n",
    "#displays the plot\n",
    "plt.show() "
   ]
  },
  {
   "cell_type": "markdown",
   "id": "327ba3ef-5fb0-44d6-a884-d1c36a9c174c",
   "metadata": {},
   "source": [
    "## Model Building with RandomForestRegressor"
   ]
  },
  {
   "cell_type": "code",
   "execution_count": 389,
   "id": "c82aa381-00a6-439c-8ba2-3a468f912b40",
   "metadata": {},
   "outputs": [
    {
     "name": "stdout",
     "output_type": "stream",
     "text": [
      " Predicted Sales  Actual Sales\n",
      "       15.072130          16.9\n",
      "       18.299560          22.4\n",
      "       14.410607          21.4\n",
      "       16.134576           7.3\n",
      "       18.560160          24.7\n",
      "       15.753699          12.6\n",
      "       17.537806          22.3\n",
      "       11.062900           8.4\n",
      "        9.419116          11.5\n",
      "       13.247931          14.9\n",
      "       13.668900           9.5\n",
      "        9.880178           8.7\n",
      "        9.419116          11.9\n",
      "       14.731345           5.3\n",
      "        9.158516          10.3\n",
      "       10.301147          11.7\n"
     ]
    }
   ],
   "source": [
    "y_pred = reg.predict(X_test)\n",
    "comparison_df = pd.DataFrame({ \"Predicted Sales\": y_pred[:16],\"Actual Sales\": y_test[:16].values})\n",
    "\n",
    "# Display the DataFrame in a clean format\n",
    "print(comparison_df.to_string(index=False))"
   ]
  },
  {
   "cell_type": "code",
   "execution_count": 390,
   "id": "f940d721-4753-4dc3-bbc5-f00ffebbd977",
   "metadata": {},
   "outputs": [
    {
     "data": {
      "text/plain": [
       "0.12536516474278958"
      ]
     },
     "execution_count": 390,
     "metadata": {},
     "output_type": "execute_result"
    }
   ],
   "source": [
    "from sklearn.ensemble import RandomForestRegressor  # Use RandomForestClassifier for classification\n",
    "from sklearn.model_selection import train_test_split\n",
    "\n",
    "\n",
    "# Initialize the Random Forest Regressor\n",
    "rf_reg = RandomForestRegressor(random_state=42)  # Use RandomForestClassifier for classification tasks\n",
    "\n",
    "# Train the model\n",
    "rf_reg.fit(X_train, y_train)\n",
    "\n",
    "# Get the R-squared score on the training set\n",
    "train_score = rf_reg.score(X_train, y_train)\n",
    "\n",
    "# Get the R-squared score on the testing set\n",
    "test_score = rf_reg.score(X_test, y_test)\n",
    "test_score"
   ]
  },
  {
   "cell_type": "markdown",
   "id": "6fe28910-67fe-4159-aa78-cf5d72934a76",
   "metadata": {},
   "source": [
    "## Prediction Based on Model"
   ]
  },
  {
   "cell_type": "code",
   "execution_count": 391,
   "id": "c5ac1f9a-a999-412c-89ec-fe24858b4139",
   "metadata": {},
   "outputs": [
    {
     "name": "stdout",
     "output_type": "stream",
     "text": [
      " Predicted Sales  Actual Sales\n",
      "        16.63100          16.9\n",
      "        16.01850          22.4\n",
      "        15.66050          21.4\n",
      "        16.67800           7.3\n",
      "        21.77170          24.7\n",
      "        12.14600          12.6\n",
      "        20.73600          22.3\n",
      "         5.65000           8.4\n",
      "        11.59535          11.5\n",
      "        14.67900          14.9\n",
      "        16.56800           9.5\n",
      "        10.67295           8.7\n",
      "        11.59535          11.9\n",
      "        16.19600           5.3\n",
      "         7.21300          10.3\n",
      "        10.96800          11.7\n"
     ]
    }
   ],
   "source": [
    "y_pred = rf_reg.predict(X_test)\n",
    "\n",
    "comparison_df = pd.DataFrame({ \"Predicted Sales\": y_pred[:16],\"Actual Sales\": y_test[:16].values})\n",
    "\n",
    "# Display the DataFrame in a clean format\n",
    "print(comparison_df.to_string(index=False))"
   ]
  },
  {
   "cell_type": "markdown",
   "id": "5eb7511b-be9e-4adf-a84b-7b8dcb6861c8",
   "metadata": {},
   "source": [
    "## Model Evaluation"
   ]
  },
  {
   "cell_type": "code",
   "execution_count": 392,
   "id": "1cb95b22-edaa-4d51-9423-ee5b5987d9c4",
   "metadata": {},
   "outputs": [
    {
     "data": {
      "text/plain": [
       "0.28303564431918216"
      ]
     },
     "execution_count": 392,
     "metadata": {},
     "output_type": "execute_result"
    }
   ],
   "source": [
    "#import neccesary library for model evaluation\n",
    "from sklearn.metrics import mean_squared_error\n",
    "r_squared = reg.score(X_test,y_test)\n",
    "rmse = mean_squared_error(y_test,y_pred, squared = False)\n",
    "rmse\n",
    "r_squared"
   ]
  },
  {
   "cell_type": "code",
   "execution_count": 393,
   "id": "f68b74fe-0567-4b1c-a4ac-983d921ce6c4",
   "metadata": {},
   "outputs": [
    {
     "data": {
      "text/plain": [
       "5.254200093226062"
      ]
     },
     "execution_count": 393,
     "metadata": {},
     "output_type": "execute_result"
    }
   ],
   "source": [
    "rmse"
   ]
  },
  {
   "cell_type": "code",
   "execution_count": 394,
   "id": "08892468-1db2-4aff-940e-e7f0ed03f4a7",
   "metadata": {},
   "outputs": [],
   "source": [
    "X = advert.drop(['Sales','TV','Radio'], axis = 1)\n",
    "y = advert['Sales']\n"
   ]
  },
  {
   "cell_type": "code",
   "execution_count": 395,
   "id": "7c7f3396-b532-4bb6-ba17-0111dc68fab0",
   "metadata": {},
   "outputs": [],
   "source": [
    "#Split the data into 80% training and 20% testing\n",
    "X_train, X_test, y_train, y_test = train_test_split(X, y, test_size = 0.2, random_state = 42)"
   ]
  },
  {
   "cell_type": "code",
   "execution_count": 396,
   "id": "cd973eba-67d5-4b9c-b640-79d0e152e844",
   "metadata": {},
   "outputs": [
    {
     "data": {
      "text/html": [
       "<div>\n",
       "<style scoped>\n",
       "    .dataframe tbody tr th:only-of-type {\n",
       "        vertical-align: middle;\n",
       "    }\n",
       "\n",
       "    .dataframe tbody tr th {\n",
       "        vertical-align: top;\n",
       "    }\n",
       "\n",
       "    .dataframe thead th {\n",
       "        text-align: right;\n",
       "    }\n",
       "</style>\n",
       "<table border=\"1\" class=\"dataframe\">\n",
       "  <thead>\n",
       "    <tr style=\"text-align: right;\">\n",
       "      <th></th>\n",
       "      <th>Newspaper</th>\n",
       "      <th>Sales</th>\n",
       "    </tr>\n",
       "  </thead>\n",
       "  <tbody>\n",
       "    <tr>\n",
       "      <th>80</th>\n",
       "      <td>23.1</td>\n",
       "      <td>11.0</td>\n",
       "    </tr>\n",
       "    <tr>\n",
       "      <th>198</th>\n",
       "      <td>6.4</td>\n",
       "      <td>12.8</td>\n",
       "    </tr>\n",
       "    <tr>\n",
       "      <th>39</th>\n",
       "      <td>35.1</td>\n",
       "      <td>10.1</td>\n",
       "    </tr>\n",
       "    <tr>\n",
       "      <th>25</th>\n",
       "      <td>18.3</td>\n",
       "      <td>9.7</td>\n",
       "    </tr>\n",
       "    <tr>\n",
       "      <th>123</th>\n",
       "      <td>15.6</td>\n",
       "      <td>11.6</td>\n",
       "    </tr>\n",
       "    <tr>\n",
       "      <th>196</th>\n",
       "      <td>13.8</td>\n",
       "      <td>7.6</td>\n",
       "    </tr>\n",
       "    <tr>\n",
       "      <th>30</th>\n",
       "      <td>40.8</td>\n",
       "      <td>10.5</td>\n",
       "    </tr>\n",
       "  </tbody>\n",
       "</table>\n",
       "</div>"
      ],
      "text/plain": [
       "     Newspaper  Sales\n",
       "80        23.1   11.0\n",
       "198        6.4   12.8\n",
       "39        35.1   10.1\n",
       "25        18.3    9.7\n",
       "123       15.6   11.6\n",
       "196       13.8    7.6\n",
       "30        40.8   10.5"
      ]
     },
     "execution_count": 396,
     "metadata": {},
     "output_type": "execute_result"
    }
   ],
   "source": [
    "advert_trained = X_train.join(y_train)\n",
    "advert_trained.head(7)"
   ]
  },
  {
   "cell_type": "code",
   "execution_count": 397,
   "id": "966e1bd7-6e6f-40dc-b78a-e3d5d44b61d5",
   "metadata": {},
   "outputs": [
    {
     "data": {
      "text/html": [
       "<div>\n",
       "<style scoped>\n",
       "    .dataframe tbody tr th:only-of-type {\n",
       "        vertical-align: middle;\n",
       "    }\n",
       "\n",
       "    .dataframe tbody tr th {\n",
       "        vertical-align: top;\n",
       "    }\n",
       "\n",
       "    .dataframe thead th {\n",
       "        text-align: right;\n",
       "    }\n",
       "</style>\n",
       "<table border=\"1\" class=\"dataframe\">\n",
       "  <thead>\n",
       "    <tr style=\"text-align: right;\">\n",
       "      <th></th>\n",
       "      <th>Newspaper</th>\n",
       "      <th>Sales</th>\n",
       "    </tr>\n",
       "  </thead>\n",
       "  <tbody>\n",
       "    <tr>\n",
       "      <th>96</th>\n",
       "      <td>52.9</td>\n",
       "      <td>16.9</td>\n",
       "    </tr>\n",
       "    <tr>\n",
       "      <th>16</th>\n",
       "      <td>52.9</td>\n",
       "      <td>22.4</td>\n",
       "    </tr>\n",
       "    <tr>\n",
       "      <th>31</th>\n",
       "      <td>43.2</td>\n",
       "      <td>21.4</td>\n",
       "    </tr>\n",
       "    <tr>\n",
       "      <th>159</th>\n",
       "      <td>45.2</td>\n",
       "      <td>7.3</td>\n",
       "    </tr>\n",
       "    <tr>\n",
       "      <th>129</th>\n",
       "      <td>3.2</td>\n",
       "      <td>24.7</td>\n",
       "    </tr>\n",
       "  </tbody>\n",
       "</table>\n",
       "</div>"
      ],
      "text/plain": [
       "     Newspaper  Sales\n",
       "96        52.9   16.9\n",
       "16        52.9   22.4\n",
       "31        43.2   21.4\n",
       "159       45.2    7.3\n",
       "129        3.2   24.7"
      ]
     },
     "execution_count": 397,
     "metadata": {},
     "output_type": "execute_result"
    }
   ],
   "source": [
    "#join the test data for feature and Target value\n",
    "X_test.join(y_test).head()"
   ]
  },
  {
   "cell_type": "code",
   "execution_count": 398,
   "id": "44c5b68d-0089-4f1e-a6b1-d47ed2101afa",
   "metadata": {},
   "outputs": [
    {
     "data": {
      "text/plain": [
       "0.05658396829234358"
      ]
     },
     "execution_count": 398,
     "metadata": {},
     "output_type": "execute_result"
    }
   ],
   "source": [
    "#import the model\n",
    "from sklearn.linear_model import LinearRegression\n",
    "\n",
    "#instantiate the model\n",
    "reg = LinearRegression()\n",
    "\n",
    "#fit the model\n",
    "reg.fit(X_train,y_train)\n",
    "\n",
    "#check how well it performs\n",
    "reg.score(X_train,y_train)\n"
   ]
  },
  {
   "cell_type": "code",
   "execution_count": 399,
   "id": "ec94563f-11e7-4fb8-84c9-61a47d9199c4",
   "metadata": {},
   "outputs": [
    {
     "data": {
      "image/png": "[encoded data removed]",
      "text/plain": [
       "<Figure size 640x480 with 1 Axes>"
      ]
     },
     "metadata": {},
     "output_type": "display_data"
    }
   ],
   "source": [
    "\n",
    "#properly displays scattered plot for sales based on TV Platform\n",
    "plt.scatter(y_test, y_pred, alpha=0.7)\n",
    "\n",
    "#shows a straight line plot indicating fits of data points\n",
    "plt.plot([min(y_test), max(y_test)], [min(y_test), max(y_test)], color='red')\n",
    "\n",
    "#labels the horizontal axis as Actual sales\n",
    "plt.xlabel(\"Actual Sales\")\n",
    "\n",
    "#labels the vertical axis as Predicted sales\n",
    "plt.ylabel(\"Predicted Sales\")\n",
    "\n",
    "#adds title to data set\n",
    "plt.title(\"Actual vs Predicted Sales (NEWSPAPER)\")\n",
    "\n",
    "#displays the plot\n",
    "plt.show() "
   ]
  },
  {
   "cell_type": "code",
   "execution_count": 400,
   "id": "c9eb568a-4210-45ac-b303-26408c3f4cac",
   "metadata": {},
   "outputs": [
    {
     "name": "stdout",
     "output_type": "stream",
     "text": [
      " Predicted Sales  Actual Sales\n",
      "       15.471678          16.9\n",
      "       15.471678          22.4\n",
      "       14.892038          21.4\n",
      "       15.011551           7.3\n",
      "       12.501770          24.7\n",
      "       15.459726          12.6\n",
      "       13.935931          22.3\n",
      "       13.410072           8.4\n",
      "       13.093361          11.5\n",
      "       14.192884          14.9\n",
      "       12.442013           9.5\n",
      "       14.085322           8.7\n",
      "       17.377916          11.9\n",
      "       12.872261           5.3\n",
      "       13.900076          10.3\n",
      "       14.413984          11.7\n"
     ]
    }
   ],
   "source": [
    "y_pred = reg.predict(X_test)\n",
    "comparison_df = pd.DataFrame({ \"Predicted Sales\": y_pred[:16],\"Actual Sales\": y_test[:16].values})\n",
    "\n",
    "# Display the DataFrame in a clean format\n",
    "print(comparison_df.to_string(index=False))"
   ]
  },
  {
   "cell_type": "code",
   "execution_count": 401,
   "id": "551ae690-e3da-426b-9e8b-d0b25dab97b0",
   "metadata": {},
   "outputs": [
    {
     "data": {
      "text/plain": [
       "0.7222137322868647"
      ]
     },
     "execution_count": 401,
     "metadata": {},
     "output_type": "execute_result"
    }
   ],
   "source": [
    "from sklearn.ensemble import RandomForestRegressor  # Use RandomForestClassifier for classification\n",
    "from sklearn.model_selection import train_test_split\n",
    "\n",
    "\n",
    "# Initialize the Random Forest Regressor\n",
    "rf_reg = RandomForestRegressor(random_state=42)  # Use RandomForestClassifier for classification tasks\n",
    "\n",
    "# Train the model\n",
    "rf_reg.fit(X_train, y_train)\n",
    "\n",
    "# Get the R-squared score on the training set\n",
    "train_score = rf_reg.score(X_train, y_train)\n",
    "\n",
    "# Get the R-squared score on the testing set\n",
    "test_score = rf_reg.score(X_test, y_test)\n",
    "test_score\n",
    "train_score"
   ]
  },
  {
   "cell_type": "code",
   "execution_count": 402,
   "id": "3fef8a31-fb49-454d-afb4-27b128b09270",
   "metadata": {},
   "outputs": [
    {
     "name": "stdout",
     "output_type": "stream",
     "text": [
      " Predicted Sales  Actual Sales\n",
      "       18.531000          16.9\n",
      "       18.531000          22.4\n",
      "        9.770667          21.4\n",
      "       15.380000           7.3\n",
      "       15.557883          24.7\n",
      "       18.531000          12.6\n",
      "       14.459000          22.3\n",
      "       13.908000           8.4\n",
      "       14.954000          11.5\n",
      "       11.626607          14.9\n",
      "       16.004000           9.5\n",
      "        9.245333           8.7\n",
      "       16.411000          11.9\n",
      "       13.060143           5.3\n",
      "       13.699000          10.3\n",
      "       11.097500          11.7\n"
     ]
    }
   ],
   "source": [
    "#predict on the test set\n",
    "y_pred = rf_reg.predict(X_test)\n",
    "\n",
    "#compare the results for actual and predicted sales\n",
    "comparison_df = pd.DataFrame({ \"Predicted Sales\": y_pred[:16],\"Actual Sales\": y_test[:16].values})\n",
    "\n",
    "# Display the DataFrame in a clean format\n",
    "print(comparison_df.to_string(index=False))"
   ]
  },
  {
   "cell_type": "code",
   "execution_count": 403,
   "id": "4502bab9-d561-4e28-92bb-719678eeb18d",
   "metadata": {},
   "outputs": [
    {
     "data": {
      "text/plain": [
       "0.029871749149522397"
      ]
     },
     "execution_count": 403,
     "metadata": {},
     "output_type": "execute_result"
    }
   ],
   "source": [
    "#import library for model evaluation\n",
    "\n",
    "from sklearn.metrics import mean_squared_error,r2_score\n",
    "r_squared = reg.score(X_test,y_test)\n",
    "rmse = mean_squared_error(y_test,y_pred, squared = False)\n",
    "rmse\n",
    "r_squared"
   ]
  },
  {
   "cell_type": "code",
   "execution_count": 404,
   "id": "a2039420-1c7d-4a42-8ea4-b65f4d896028",
   "metadata": {},
   "outputs": [
    {
     "data": {
      "text/plain": [
       "6.173140667201752"
      ]
     },
     "execution_count": 404,
     "metadata": {},
     "output_type": "execute_result"
    }
   ],
   "source": [
    "rmse"
   ]
  },
  {
   "cell_type": "code",
   "execution_count": 405,
   "id": "2028feac-76ee-4014-b1be-fa171db60ec2",
   "metadata": {},
   "outputs": [
    {
     "name": "stdout",
     "output_type": "stream",
     "text": [
      "[-0.30963725 -0.26279991 -0.63934978 -0.58991392 -0.29526878 -0.08425412]\n"
     ]
    }
   ],
   "source": [
    "#Validating the model\n",
    "from sklearn.model_selection import cross_val_score,KFold\n",
    "kf = KFold(n_splits = 6, shuffle = True, random_state = 42)\n",
    "rf_reg = RandomForestRegressor()  # Use RandomForestClassifier for classification tasks\n",
    "\n",
    "cv_results = cross_val_score(rf_reg, X,y,cv = kf)\n",
    "print(cv_results)"
   ]
  },
  {
   "cell_type": "markdown",
   "id": "803081c7-cfda-4b87-a73c-b64417773da8",
   "metadata": {},
   "source": [
    "# Comments based on Analysis"
   ]
  },
  {
   "cell_type": "markdown",
   "id": "e5e05aee-6488-4227-a25f-3e52feaeb4c2",
   "metadata": {},
   "source": [
    "##### The Aim is to determine which advertising media will drive sales better\n",
    "##### Based on finding TV tends to fit into this condition, why?\n",
    "\n",
    "1. It has the strongest correlation with sales\n",
    "2. It has the highest value when fit into the models I used\n",
    "3. TV has R-squared value of 0.6766954295627077 which is very close to 1 compared to the others, indicating it has a better prediction too.\n"
   ]
  },
  {
   "cell_type": "code",
   "execution_count": null,
   "id": "c61cfa62-bf8c-4d77-b060-5c97b37cabbf",
   "metadata": {},
   "outputs": [],
   "source": []
  }
 ],
 "metadata": {
  "kernelspec": {
   "display_name": "Python 3 (ipykernel)",
   "language": "python",
   "name": "python3"
  },
  "language_info": {
   "codemirror_mode": {
    "name": "ipython",
    "version": 3
   },
   "file_extension": ".py",
   "mimetype": "text/x-python",
   "name": "python",
   "nbconvert_exporter": "python",
   "pygments_lexer": "ipython3",
   "version": "3.11.7"
  }
 },
 "nbformat": 4,
 "nbformat_minor": 5
}
